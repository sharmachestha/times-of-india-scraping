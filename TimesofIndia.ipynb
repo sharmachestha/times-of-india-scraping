{
 "cells": [
  {
   "cell_type": "code",
   "execution_count": 1,
   "metadata": {},
   "outputs": [
    {
     "name": "stderr",
     "output_type": "stream",
     "text": [
      "C:\\Users\\ChesthaS\\Anaconda3\\lib\\site-packages\\requests\\__init__.py:91: RequestsDependencyWarning: urllib3 (1.26.5) or chardet (3.0.4) doesn't match a supported version!\n",
      "  RequestsDependencyWarning)\n"
     ]
    },
    {
     "name": "stdout",
     "output_type": "stream",
     "text": [
      "[INFO] Extracting links...\n",
      "['Lucknow: Civil hospital sacks sanitation worker, sets up probe panel', 'Lucknow: In viral video, hospital sanitation worker seen cutting sutures of female patient', 'Toilets in parks for women safai workers', 'Joshi raises 16 demands of sanitation workers with JMC', 'Avoid crowding, use tech to celebrate I-Day: Centre to states', 'Fans distribute masks, sanitizers to celebrate Shahenshah’s 39th ‘rebirth’', 'To end dropout crisis, youths take tuition classes for sanitation workers’ children', 'Sanitation workers may go on strike in city from today', 'NABARD sanctions Rs 446 crore to Punjab for drinking water projects', 'Andhra Pradesh: Sanitation workers win battle against Covid, lose against inhuman authorities', 'Several sanitation workers lose jobs as APCOS implements retirement age', 'Sanitation staff finds 15 live rounds', 'Punjab govt should provide modern equipment to sanitation workers in Ludhiana: AAP', 'Wristband hand sanitizer: Rajasthan innovator comes up with a smart idea', 'Surat: Amid friends after isolation, students elated to be in class', 'Goa: CCP’s new policy rationalises sanitation fees', 'Hostels to reopen for X, XII from July 26', 'Goa: Study on sanitation fees, waste quantum reveals mismatch', 'Shop closed for using water as sanitizer', 'Exam centres sanitized and sealed for West Bengal Joint Entrance Examination today']\n",
      "['Uttar Pradesh: Upset over non-payment of salary, sanitation worker consumes poison', 'Suspended sanitation officer flouts rules, continues work', 'Noida: Sanitation worker dies after electrocution from iron booth, FIR lodged against local pradhan', 'Gujarat: Blaming Bhuj municipality, sanitation worker hangs self', 'Maharashtra: Cantonment Board Deolali takes up sanitation drive', 'Sanitation workers protest after school principal uses ‘objectionable’ word in transfer certificate in Uttar Pradesh', 'Coming soon: Second centre to segregate garbage in Chandigarh', 'MP Kirori Lal Meena, sanitation workers block Tonk Road in Jaipur', 'Trichy boy, 13, pours sanitizer into fire, dies of burn injuries', 'Secunderabad Cantonment Board sanitation, vaccination drives come with subtle pitch for vote', 'AAP holds protest outside EDMC HQ', 'Kolkata: Patrons return to gyms over weekend, owners take to social media to share Covid safety SOP', 'As Bengaluru opens up today…Do your bit to avoid going back into lockdown!', 'Karnataka: No Sarpa samskara, Ashlesha Bali at Kukke temple', 'Andhra Pradesh high court judge lauds services of sanitation workers', 'Kochi Metro records over 6,000 ridership as service resumes', 'Jaipur: Anti-Corruption Bureau to check if BVG inflated dues', 'Prepare sanitation staffers’ list, plan work: Gurugram civic body to officials', 'West Bengal: BJP supporters ‘sanitized’ before Trinamool induction in Birbhum', 'MCG to track trash vans in real time']\n",
      "['How To Make a Sanitizer at Home?', 'Disinfectant sprays: Eliminate germs from door handles, parcels, public spaces & more', 'Hand Sanitizers that can help you effectively clean your hands', '1,481 posts OK’d, but MCM will have to raise own funds', 'Haryana: Health workers to go on strike, stay in ‘home isolation’ for 2 days', 'Jharkhand malls carry out sanitization drive ahead of reopening', 'Tamil Nadu: Medical stores ignore govt cap on prices of masks, sanitiser', 'Jaipur: Now, pink sarees for sanitation workers', 'Punjab stinks as sanitation staff strike completes a month', 'Dehradun: Sanitation worker’s son gets commissioned as Army officer', 'No New Landfill, Focus On Local Handling Of Waste', 'Tamil Nadu: Ariyalur man, 35, dies after drinking hand sanitizer', 'Sale of masks, sanitizers drops 90% in Pune district', 'Tamil Nadu Urban Sanitation Support Programme’s short film wins international award', 'Fed up of illness, woman torches self with sanitizer in Surat', 'Plant had huge stock of sanitizer, inflammable chemicals: Cops to court', 'Brihanmumbai Municipal Corporation says installing sanitizer dispensers at public places impractical, inadvisable', 'UV Sterilizer Box to kill off germs from your Mobile Phones', 'Andhra Pradesh: Home guard consumes sanitizer in suicide attempt at Adoni', 'Andhra Pradesh: Female home guard consumes sanitizers and attempts suicide']\n",
      "['Save more on food, drinks, fruits & vegetables, household supplies, and grocery essentials on Amazon', 'Several hand sanitizers fail to make grade in JNTUH & BITS efficacy tests', 'No manual scavengers left to rehabilitate: Gujarat government', 'Sugar mills create record in sanitizer production', 'New firm to be hired for sanitation', 'Punjab: Talk to sanitation workers, Sukhbir Badal tells CM Captain Amarinder Singh', 'Greater Noida: 21-year-old sanitation worker dies while cleaning sewer without safety gear', 'Air sanitizer sprays that will ensure clean air in your room', 'Toilet Seat Sanitizer Spray: Prevent infections when using public washrooms', 'Park trysts and sanitizer gifts: Dating goes off-screen again', 'Sanitation, antibiotic dose can prevent fungal attack', 'Rajasthan: Sanitation worker held for bribe', 'Shopkeepers booked for selling pulse oximeters at higher prices in Hyderabad', 'Gujarat: Two held for raping sanitation worker, posting video', 'Touchless Automatic Hand Sanitizer Dispenser Suitable For Homes And Commercial Premises', 'Ahmedabad: Going out? Carry sanitizer or cops may book you', 'Mayor calls for more vaccination centres in Guntur city', 'Rush to replenish stock as sanitisers fly off shelves', 'Sanitation staff call off stir, get masks, sanitisers, gloves', 'Jaipur: Denied safety measures, sanitation staff threaten stir']\n",
      "['Lucknow: Loader hits sanitation staff on Shaheed Path, 1 critical', 'Sanitation unions of NDMC threaten to go on strike over dues, lack of gear', 'Save more on personal safety supplies like masks, sanitizers, gloves, etc, on Amazon', 'Telangana: Gated communities give support to affected residents', \"Ajith's 'Dhaksha' team helps sanitize roads in Tirunelveli\", 'Lucknow Municipal Corporation to pick up waste from Covid patients’ homes', 'Gaya civic body intensifies sanitisation drive in town', 'Fake hand sanitizer racket busted inside Surat farm', 'Chemist association gears up to stock up on oxygen, masks, PPE kits, sanitizers after UNICEF warns about a possible third wave', 'APSRTC says no to transportation of sanitizers', 'Mayor leads drive to sanitise Gaya wards', 'Home sanitizing essentials: Products that will help you maintain proper hygiene levels', 'Three die after consuming sanitizer', 'Sanitation workers go on ‘rampage’ at Meerut hospital after dispute with doctors', 'Gyms, training centres take another hit', 'Drinking water for all under Jal Jeevan Mission, says CM Jagan Mohan Reddy', 'Jaipur: JMC fails to make plan-B for collection of garbage', 'Sanitation worker on UP panchayat election duty dies at polling station', 'Labourers to get Rs 1k each, gram pradhans Rs 20k to buy masks, sanitizers', 'Andhra Pradesh: Family blames vaccination for sanitation staffer’s death']\n",
      "['Seven die after consuming sanitizer', 'Overcrowding forces south Delhi crematorium to shut down', 'Vadodara: Duplicate sanitizer maker earned Rs 10 crore in 10 months', 'Toilet seat sanitizer sprays: Compact bottles that will easily fit in your handbag', 'GHMC on sanitation drive, mayor conducts inspection', 'Counterfeit sanitizer racket busted, unit owner detained', 'Private bus operators in Dehradun announce to increase fare from today after state government asks them to ply with 50% seating capacity', 'GHMC on massive sanitation drive', 'Disinfectant spray buying guide: Properties, productiveness, price & more', 'Disinfectant for clothes: Fabric sanitizers for ensuring proper hygiene', \"Police station in UP's Sambhal shut after 7 cops test Covid positive\", 'Uttar Pradesh: 205 litres of fake sanitizer seized by excise department in Meerut', 'Govt ropes in SHGs to makemasks, sanitizers, PPE kits', 'Best spray bottles for storing sanitizers, skincare serums and more', 'PIL seeks hand sanitizer dispensers in railway stations, public places, masks for needy', 'Install hand sanitizer at public places in Mumbai : PIL', 'Hand Sanitizer buying guide: Quality, effectiveness, price & more', 'Start drive to sanitize areas: Govt', 'As cases spike, masks fly off shelves of med shops in city', 'Several night events called off after Bihu SOP']\n",
      "['Students of state-run Almora Nursing College forced to clean toilets in absence of sanitation staff', 'Now Sanitation workers to have uniform dress code across India', \"MCD sanitation staff can't do 'gundagardi' in name of protest, warns HC\", 'HC to reduce judicial work, sanitize campus', 'Patna University to switch over to online classes from today', 'Haryana CM Manohar Lal Khattar increases monthly salary of sanitation workers', 'Cases rising, Gujarat Technological University to sanitize campus', 'Why one sanitation worker continues to die every five days in Swachh India', 'Pig menace: 9 sanitation workers suspended', 'Desperate for alcohol, 3 brothers die after drinking sanitiser in Madhya Pradesh', 'Haryana: 42 contractual rural sanitation workers taken on payroll in Ambala', 'Two alcoholics die after drinking sanitizer in Vijayawada', 'Dehradun Smart City Ltd project awarded', '11% hike in budget outlay, biggest share for sanitation', 'GHMC discards bins, garbage piles up on many Hyderabad roads', 'Delhi: Corporations tighten vigil on burning of leaves', 'Marathi TV director Ajay Mayekar shares a lengthy note on reimposition of lockdown in Maharashtra; says \"couldn\\'t afford it again\"', 'Sanitation staff at MGM hospital on indefinite strike', 'TNUSSP honours seven people who fought gender bias in field of sanitation', 'Sanitation staff trained in use of robots, machines']\n",
      "['Mayor meets family members of sanitation worker who died of health complications', 'Govt busy with politics, sanitation faces neglect', 'CM stresses on sanitation at govt hosps', 'EDMC banks on safai feedback', 'Vadodara sanitation workers averse to jab', 'Wall-mounted soap dispensers for convenient hand-washing', 'Delhi sanitation worker dies four days after vaccine jab', 'Musi revival: Citizens can breathe easy along river', 'No masks + No physical distancing + No sanitizers = Spike in Covid-19 cases', 'Noida: Despite incentives, turnout under 40% in last jab round', 'Gurugram: Foetus found in drain, sanitation staff alert cops', 'Sanitizers, gloves for voters at all poll booths', 'Noida: Sanitation workers of Gautam Budh University protest against salary cut', 'It’s a film that upholds our right to education, dignity and sanitation', 'SDMC to give house, job to kin of deceased Covid-19 warriors', 'Maharashtra: Mask, sanitizer sales plunge as people throw caution to the wind', 'Malba dumping on roadsides, green belts rampant in Sector 15', 'Bihar: ‘No nervousness in getting 2nd shot of Covid vaccine’', 'Miffed with non-payment of salaries, sanitation staff goes on strike in Piran Kaliyar', 'Kolkata: Weekend cleaning for Monday reopening']\n",
      "['Mask, sanitizer demand declines as cases dip', 'Clogged drain or waste pile, 16 teams will clear it in 4 hrs', 'Andhra Pradesh: 50-year-old sanitation worker dies 24 hours after getting vaccine shot in Tirupati', \"Rajasthan: Staff's dance video from ICU goes viral, hospital sacks one, transfers two\", 'Chhatrapati Shivaji Maharaj International airport awarded by ACI', 'Birders spot 122 species of birds at annual Manipal Bird Day', 'Delhi HC picks nodal officer to sort out safai staff’s woes', 'Kolkata: From today, schools to tell kids, parents of campus dos and don’ts', 'Osmania University issues notice to reopen hostels from February 16', 'Gurugram: Hire sanitation workers based on area population, officials told', 'Sanitizer case: Three contractual employees terminated', 'Weeks to go for Maha Kumbh, sanitation workers in Haridwar on strike for two days now; mounds of garbage and stench in holy city', 'East Delhi Municipal Corporation to regularise all safai staff till 2006', 'Instead of polio drops, 12 kids given sanitizer in Maharashtra', 'Maharashtra made little progress on sanitation, water projects', 'Sanitation worker dies hours after vaccination in Vadodara', 'Safai staff is back, clean-up resumes in Delhi', 'Trichy sanitation drive a damp squib', 'How will schools function without sanitation: Teachers', 'Gujarat: Sanitation worker dies hours after getting Covid-19 vaccine']\n",
      "['Manesar corporation seeks government nod for nearly 1,500 posts', 'Private schools in Telangana to collect sanitation fee', 'Delhi: Demands met, most safai staff relent', 'UV lamps to sanitize Lucknow Metro coaches', \"'Access to bare necessities has improved in all states'\", 'Avian flu cases, bird deaths on steady decline across state', 'After New York subway, Lucknow Metro becomes second to use UV lamps to sanitize train coaches', 'North Delhi Municipal Corporation has promises to keep as stink rises', 'In the grip of mystery disease, idyllic village seeks clean water, sanitation', 'Focus on sanitation, garbage collection in JMC Greater’s 1st GBM', 'Telangana: Students in educational institutions get masks, sanitizers in Hyderabad', \"Coronavirus: Hand sanitizers can hurt children's eyes, study claims\", 'Frontline workers serving the Republic during pandemic: Delhi CM', 'Delhi: No end in sight to civic staff strike as talks fail', 'AAP, BJP continue to spar over corporations', 'Delhi: Salary stir enters 17th day, garbage piles up in areas', \"Mystery ailment spreads to AP's Bhimadole, three more cases surface\", 'Sanitation workers in UP ‘forced’ to donate Rs 100 for Ram Mandir', 'JNTU-H & OU seek sanitation, logistical plans from colleges', 'North Delhi Municipal Corporation announces release of salaries a day after staff protest']\n",
      "['Thane: Rs 10 lakh payout to kin of sanitation workers who died in 2019', 'Bihar: Registration begins for 2nd phase of vaccination', 'Thane societies to be liable for deaths of sanitation workers', 'Sanitation drive in Trichy from today', 'Ahmedabad: Sanitation inspector prepping for minister tour thrashed', 'Tamil Nadu: After 10 months, 20L schoolkids return to sanitized classrooms', 'Smiles, sanitizers welcome students as schools reopen in Delhi', 'Swachh race: GHMC caught napping on sanitation', 'Private schools in Telangana want sanitation fee to ward off Covid', 'Worth the vial: Goa can finally breathe easy', 'GGH sanitation worker gets first Covid vaccine shot in Andhra Pradesh', 'GGH sanitation worker gets first Covid vaccine shot in Andhra Pradesh', 'Gurugram: From 37th to 1st on vaccine list', 'GGH sanitation worker gets first Covid vaccine shot in Andhra Pradesh', 'Sanitation worker at Gandhi gets Telangana’s first Covid vaccine shot', 'After initial apprehensions, opening day ends with 95% turnout in Ghaziabad, 1/3rd stay away in Noida', '‘Don’t go for the 1st round, my kids said’', 'Woman sanitation worker of Ranchi sadar hosp is Jharkhand’s 1st vax recipient', 'Sanitation worker 1st to get vax in hospital', 'Cold feet, illness among reasons behind no-shows']\n",
      "['Nurse, 68, oldest healthcare worker to get vax in Goa', 'From paediatric vaccinator to Covid warrior', '‘Vaccine only way forward, side-effects are all hype’', 'Thrilled to set an example, say frontline staff', 'Sanitation worker at AIIMS first person in Delhi to get Covid vaccine; health minister Harsh Vardhan calls it historic day', 'Will continue working without hesitation, says sanitation worker who received Covid-19 vaccine shot', 'Kerala will achieve total sanitation status in 2021-22: Isaac', 'Woman sanitation worker gets the first shot in Telangana as Covid-19 vaccination programme begins', \"Madhya Pradesh: Health department's sanitation worker first to get Covid-19 vaccine in Rewa\", 'Sanitation worker gets first shot of Covid-19 vaccine in Andhra Pradesh', 'Wait over, Bihar ready to knock out Covid with jab', \"MCD councillors, officers living like lords, while Covid-19 workers don't get pay: Delhi HC\", 'Sanitation workers to get first Covid-19 vaccines in Madhya Pradesh', 'Sanitation worker likely to be first vaccine recipient in Odisha', 'COVID-19: Save your skin from the excessive handwashing', 'Tender floated in Bengal for poll masks, sanitizers', 'Schools demand sanitization expenses before board exams', 'All govt schools in Telangana lack sanitation staff', 'Medicines, hand sanitizers gutted in godown fire', \"Chandigarh's young cricketer wants to be an actor to promote sports and sanitation\"]\n",
      "[\"Chandigarh's young cricketer wants to be an actor to promote sports and sanitation\", 'Medicines and hand sanitizers gutted in Coimbatore godown fire', 'Sanitation worker who handled Covid victims’ bodies honoured', 'UP: Kin, colleagues blame nagar palika for sanitation worker’s death, seek compensation', 'JMC Greater mayor takes stock of sanitation work', 'Ahaana Krishna tests negative for COVID-19', 'Surat: Eunuchs reach out to lockdown-hit needy', 'MP: Gwalior civic chief, Katni SP removed', 'Sanitation employees in Hyderabad threaten strike', 'ACS warns of action for slackness in preparation of sanitation map, DPR', 'Dismayed over sanitization cost, schools wary of reopening', \"Kolkata's Kalighat temple installs chemical-free sanitization tunnels\", 'Locals clash with sanitation workers over trash removal', 'Database of sanitation workers for free vaccine', 'Pune: Schools’ support staff play crucial role to keep teachers, students safe', 'Covid: Sanitation staff, pharmacists may be on 1st vax list', '2020 in a review: Masks, oximeters & weight loss products are highly-sold products in Health & Fitness from TOI Most Searched Products', 'Amid the pandemic, GHMC rakes in over Rs 2,000 crore revenue', 'Dalgona coffee, sanitizers and cake — What people googled in 2020', 'GHMC workers accuse pvt firms of cheating, blackmail']\n",
      "['Andhra Pradesh: Pedana municipal chief attacked over harassment allegations', 'Maharashtra govt says usher in New Year at home, makes businesses unhappy', 'Year-end rush pushes up sales at shopping hubs in Kolkata', 'Garbage left on Vastrapur roads', 'LG Styler clothes steamer and sanitizer launched at Rs 1,60,000', 'Loan denied, sanitation workers dump garbage outside bank in protest', 'NDMC to train its safai staff in critical aid', 'Pile of trash line Rudrapur streets even as sanitation workers end strike', 'Sanitation staff crunch hits road cleanliness', 'Mission Clean Buddha Nullah: 30 traffic marshals, 60 sanitation staff deployed', 'JMC Heritage to allot sanitation workers to each colony', 'Delhi: Place us on vaccination priority list too, say sanitation workers', 'Pune: Early finish, restricted attendance at ‘midnight’ mass in pandemic year', 'Telangana govt gears up for waste management in city', 'Get rid of dry skin, follow these fail-safe tips', 'Effective UV Phone Sanitizers To Keep Germs Off Your Smartphones', 'Chandigarh based NGO distributes blankets & essentials to protesting farmers', 'HC to close for three days for sanitization of campus', 'Tag JMC mayor on Twitter for sanitation complaints', 'Sanitation fees in Margao questioned']\n",
      "['Green belts, roads cleared of garbage & illegal ads', 'MCemployees push for better working conditions for sewermen, sanitation staff', 'Delhi: As sanitation crisis looms at dharna sites, corporation deploys special teams', 'AFI, HI come up with SOPs: No team championships and relay events, athletes will pass through ‘sanitiser tunnel’', 'Tamil Nadu colleges reopen, students stay away', 'GHMC elections: Sanitation, distancing norms flouted at polling stations', 'Poor garbage collection service causing sanitation woes in Vijaypur', 'GHMC deploys sanitation, Asha workers for poll duty', 'Kids at Agra juvenile home living in dirty conditions', 'Patna: Social distancing norms, use of masks go for a toss', 'PMC conducts anti-larva operation', 'Covid overcaution bringing other ailments to many', 'Bengal: No reopening decision yet for schools either', 'Birthday Pledge: Suresh Raina to build sanitation, drinking water facilities at 34 schools', 'Rs 8 crore loan for redevelopment of Kadri Market', 'UP produces record 177 lakh sanitizer, nets Rs 137 crore', 'Mangaluru: Rs 8 crore loan for redevelopment of Kadri Market', 'MC commissioner ticks off staff for ‘unclean’ Suvidha Centre', 'India will support a possibility for world to get access to clean drinking water: Suresh Prabhu', 'Ghats ready to host Chhath devotees today']\n",
      "['20 per cent of rural households in Karnataka lack toilets', 'Lucknow: Thermal scan, sanitization must before entry to ghats', 'Sanitation workers stage dharna in Muzaffarnagar city to press for unpaid wages', 'Mumbai: Upmarket schools pull out all stops, but others struggle to buy sanitisers', 'Sanitation workers’ strike forces GMCH to postpone 20 surgeries', 'Virat Kohli named brand ambassador for sanitation brand', 'Actors Madhavan, Tapsee Pannu and other celebs to speak about sanitation', 'Board to bear exam centre sanitization costs', 'Pay of sanitation workers increased', 'Happy Diwali 2020: Important health tips to follow for a safe Diwali in the times of coronavirus and rising air pollution', '21 cities in Ganga basin dump 60% of excreta into river: CSE report', 'Gujarat: Now, water-based hand sanitizers', 'Mysuru City Corporation restricts number of cracker shops', 'Jaipur: Two sanitation workers among 3 arrested for smuggling gold', '‘Health, sanitation & security are priority’', 'Bhubaneswar civic body distributes safety kits among sanitation workers', 'Sanitation staff oppose checking by superintendents, hold protest', 'Aquox launches DIY portable Disinfectant & Sanitizer Generators priced at Rs 1,599 and Rs 3,999', 'Masks, sanitizer & distancing: Covid precautions mark Karwa Chauth celebrations', 'Ink splashed on Surat Municipal Corporation health officer']\n",
      "['Liquor prices cut to curb deaths due to sanitizer ingestion: Andhra Pradesh deputy CM', 'Bhopal: It takes 1 Lakh litre sanitiser, 56,000 PPE kits for bypolls in Coronavirus times', 'Rajasthan Covid cases jump from 1 lakh to 2 lakh in 51 days', 'Sanitization teams to tag along with sector magistrates to Bermo poll booths', 'Congress slams Bihar govt over ‘poor’ sanitation', 'Jharkhand: Delay in shifting pipelines, drains stall widening work on NH-33', 'UP has produced 1.7 crore litres of sanitizer since March', 'Swaraj Barik takes precaution while gymming', 'Sanitizer, protective gear given as part of poll material', \"Director Garima Kaul's 'Desire?' uncloaks the realities of asexuality\", 'Countries with low GDP, poor sanitation had lower Covid-19 death rate: Study', 'Jaipur: Pay to get your bags sanitised at station', 'Kerala: Health department suggests sanitation measures for school reopening', 'AAP alleges move to hand over sanitation to private agency', 'Sanitiser industry booms in Gujarat post Covid', \"Sanitation drives to mark Vijaydashmi in UP's GB Nagar\", 'Chandigarh municipal corporation cedes some ground, but safai workers don’t budge', 'SmartClean aims global expansion with IoT and AI-driven sanitization solutions', 'Exams: Who will bear sanitization cost, ask schools', 'RMC to intensify sanitation work during festive season']\n",
      "['BJP blames Delhi govt, DJB says accident site is not under its purview', 'Outsourced sanitation workers take mass holiday', '75% of govt Puja grant to clubs must be spent on masks, sanitizers: HC', 'Illegal parking & sanitation Adarsh Nagar’s major woes', 'At the movies, keep the mask on', 'Amazon Sale offers up to 70% off on masks, sanitizers & other hygiene essentials', 'Delhi: Not segregating waste? you are being scanned', 'Export ban on alcohol-based hand sanitizers lifted', 'SOPs for cultural events: Artistes, crew need Covid-negative certificate', 'Ahmedabad girl raises funds to supply eco-friendly sanitary pads', 'Behind in polls, Trump launches swing state blitz', 'Cleaning rare, it’s a den of snakes: Sector 9A residents', 'Kerala government to rate local bodies for sanitation status: CM Pinarayi Vijayan', 'Yogi Adityanath pledges to curb Covid-19 in UP with special sanitization campaign', 'Schools ready with new tools for safety in Lucknow', 'Kolkata airport gets UV tunnel to sanitize flyers’ baggage', 'Breathing with face mask does not alter oxygen level; virus can last nine hours on skin', 'Restaurants to open today, with caution', 'Valmiki community protest on; safai workers pelt stones', 'Hyderabad: Sanitation activities on fast track ahead of GHMC polls']\n",
      "['Teenager creates special box to sanitize veggies, grocery items', 'Maharashtra government issues guidelines for restaurants which are set to reopen', 'Soak pits built under MGNREGS improve sanitation in Dharwad villages', 'Titilagarh sanitation goes awry as workers launch cease work', 'Bhopal sanitation workers stop work to protest UP horror', 'Sanitation workers rise in protest, block roads, refuse to work', 'Sanitation staff paid well, can’t regularise service: GHMC', '‘Govt focus is to ensure access to water, sanitation to marginalised’', 'Daily sanitization to cost Rs4,000, need funds: Schools', 'Secunderabad: SCB to go after tax defaulters to raise funds for sanitation spend', \"Advocates question move of children's admission in court crèche during pandemic times\", 'Activist moves HC over poor sanitation in SBS Nagar', 'Maharashtra: ‘Agents’ charge Rs 100 to sanitise vehicles at RTO', 'Poor hygiene at Covid wards in North Karnataka', 'No water supply in 535 government schools', 'Tourism body appeals govt over sanitation', 'Few takers for Jaipur Metro on Day 2 but people hail move to resume ops', 'Sanitation work is permanent: Telangana HC', '40% of sanitation staff yet to join work', 'Sanitation staff can’t be sacked: Telangana HC']\n",
      "['How often should you clean your toilet', 'Noida waste vans targeted amid talks', 'Odisha HC defers video hearings to tomorrow on account of buildings’ sanitisation', 'Noida Authority meets sanitation staff', 'Delhi: As masks, PPE kits head to landfills, you can’t shrug off share of blame', 'Chandrashekhar Azad joins sanitation workers’ stir in Noida, warns of a bigger protest', 'Publish the list of frontline warriors who died of Covid-19 and help their families: Gudur Narayana Reddy', 'Hand sanitizers donated for 32 buses at TNSTC Kovilpatti depot', 'India committed to ensure water, sanitation to all: India at UNHRC', 'UV rays to sanitize OMR sheets for UPSEE aspirants', 'Noida: Lathicharge on sanitation workers during protest', 'Sanitation worker dies of asphyxiation', 'Job lost, sanitation worker found hanging in Noida', 'Ramgarh stinks as piles of garbage dot streets amid strike by civic workers', 'MLA takes up sanitation work, praises PM Modi in Gorakhpur', 'Migrants returning to Surat greeted with masks, sanitizers', 'Hyderabad: Private agencies to run 10,000 public toilets', 'Sanitized and raring to go, Kolkata’s lifeline back on track after 6 months', \"Robot to serve Covid-19 patients in Andhra Pradesh's Vizag\", 'HC closed on Sept 14-15 for sanitization']\n"
     ]
    },
    {
     "name": "stderr",
     "output_type": "stream",
     "text": [
      "  0%|          | 1/400 [00:00<01:07,  5.89it/s]"
     ]
    },
    {
     "name": "stdout",
     "output_type": "stream",
     "text": [
      "[INFO] Links Extracted.\n",
      "The total no. of pages is= 400\n",
      "No. articles= 400\n",
      "Last article goes back till:  2020-09-24\n",
      "[INFO] Extracting articles...\n"
     ]
    },
    {
     "name": "stderr",
     "output_type": "stream",
     "text": [
      "100%|██████████| 400/400 [07:27<00:00,  1.12s/it]"
     ]
    },
    {
     "name": "stdout",
     "output_type": "stream",
     "text": [
      "[INFO] Articles Extracted.\n",
      "Length:  (400, 4)\n"
     ]
    },
    {
     "name": "stderr",
     "output_type": "stream",
     "text": [
      "\n"
     ]
    }
   ],
   "source": [
    "from bs4 import BeautifulSoup\n",
    "from requests import get\n",
    "import pandas as pd\n",
    "from tqdm import tqdm\n",
    "from dateutil import parser\n",
    "import string\n",
    "\n",
    "# Checking for the total no. of pages\n",
    "\n",
    "url = 'https://timesofindia.indiatimes.com/topic/Sanitizer/news/'\n",
    "soup = BeautifulSoup(get(url).text, 'lxml')\n",
    "\n",
    "##Because the website displays ages only till 20\n",
    "max_urls = [url + str(i) for i in range(1, 21)]\n",
    "\n",
    "# Creating empty lists to save all the features\n",
    "headlines, dates, news, urls = [], [], [], []\n",
    "\n",
    "print(\"[INFO] Extracting links...\")\n",
    "# Extracting all the Headlines, dates and the urls of the articles\n",
    "for index in max_urls:\n",
    "\n",
    "    try:\n",
    "        soup = BeautifulSoup(get(index).text, 'lxml')\n",
    "\n",
    "        # Extracts the Headlines\n",
    "        try:\n",
    "            headline = [soup.select('span.title')[i].text.strip() for i in range(len(soup.select('span.title')))]\n",
    "            print(headline)\n",
    "            headlines.extend(headline)\n",
    "        except:\n",
    "            headlines.extend(None)\n",
    "\n",
    "        # Extracts the published dates\n",
    "        try:\n",
    "            pub_date = [str(parser.parse(soup.select('span.meta')[0].text)).split()[0] for i in\n",
    "                        range(len(soup.select('span.meta')))]\n",
    "            dates.extend(pub_date)\n",
    "        except:\n",
    "            dates.extend(None)\n",
    "\n",
    "        # Extracts the urls\n",
    "        try:\n",
    "            source = ['https://timesofindia.indiatimes.com' + soup.select('.content')[i].a['href'] for i in\n",
    "                      range(len(soup.select('span.meta')))]\n",
    "            urls.extend(source)\n",
    "        except:\n",
    "            urls.extend(None)\n",
    "\n",
    "    except:\n",
    "        break\n",
    "\n",
    "print(\"[INFO] Links Extracted.\")\n",
    "\n",
    "print(\"The total no. of pages is=\", len(urls))\n",
    "# print(set(dates))\n",
    "print(\"No. articles=\", len(dates))\n",
    "print(\"Last article goes back till: \", min(dates))\n",
    "\n",
    "print(\"[INFO] Extracting articles...\")\n",
    "c = 0\n",
    "for index in tqdm(urls):\n",
    "    try:\n",
    "        # Parse the url to NewsPlease\n",
    "        soup = BeautifulSoup(get(index).text, 'lxml')\n",
    "\n",
    "        # Extracts the news articles\n",
    "        try:\n",
    "            news_article = ''.join(\n",
    "                i for i in ' '.join(soup.select_one('._3WlLe').text.split()) if i in string.printable)\n",
    "            c += 1\n",
    "            print(c)\n",
    "            news.append(news_article)\n",
    "        except:\n",
    "            news.append(None)\n",
    "\n",
    "    except:\n",
    "        news.append(None)\n",
    "\n",
    "print(\"[INFO] Articles Extracted.\")\n",
    "\n",
    "df = pd.DataFrame({'Headlines': headlines,\n",
    "                   'Article': news,\n",
    "                   'Published_Dates': dates,\n",
    "                   'Source_URLs': urls\n",
    "                   })\n",
    "# Checking for any missing values in the Dataframe\n",
    "# print(df.isna().sum())\n",
    "\n",
    "\n",
    "# Now also dropping all the other rows with empty values\n",
    "# df=df.dropna(axis = 0)\n",
    "print(\"Length: \", df.shape)\n",
    "\n",
    "df.to_csv(\"export.csv\")\n"
   ]
  },
  {
   "cell_type": "code",
   "execution_count": null,
   "metadata": {},
   "outputs": [],
   "source": []
  }
 ],
 "metadata": {
  "kernelspec": {
   "display_name": "Python 3",
   "language": "python",
   "name": "python3"
  },
  "language_info": {
   "codemirror_mode": {
    "name": "ipython",
    "version": 3
   },
   "file_extension": ".py",
   "mimetype": "text/x-python",
   "name": "python",
   "nbconvert_exporter": "python",
   "pygments_lexer": "ipython3",
   "version": "3.7.6"
  }
 },
 "nbformat": 4,
 "nbformat_minor": 4
}
